{
  "nbformat": 4,
  "nbformat_minor": 0,
  "metadata": {
    "colab": {
      "name": "Copy of 2019-05-29 Stellar quorum sets stellarbeat/satoshipay-de example",
      "provenance": [],
      "collapsed_sections": [],
      "include_colab_link": true
    },
    "kernelspec": {
      "name": "python3",
      "display_name": "Python 3"
    },
    "accelerator": "GPU"
  },
  "cells": [
    {
      "cell_type": "markdown",
      "metadata": {
        "id": "view-in-github",
        "colab_type": "text"
      },
      "source": [
        "<a href=\"https://colab.research.google.com/github/twins2020/AlienAnalyticAcoin/blob/master/Copy_of_2019_05_29_Stellar_quorum_sets_stellarbeat_satoshipay_de_example.ipynb\" target=\"_parent\"><img src=\"https://colab.research.google.com/assets/colab-badge.svg\" alt=\"Open In Colab\"/></a>"
      ]
    },
    {
      "cell_type": "code",
      "metadata": {
        "id": "1VwTLF-kie_P",
        "colab": {
          "base_uri": "https://localhost:8080/"
        },
        "outputId": "25246e6c-05b8-4ad6-833a-b905c52dc181"
      },
      "source": [
        "!pip install stellar-observatory==1.0.1\n",
        "!pip install typing"
      ],
      "execution_count": null,
      "outputs": [
        {
          "output_type": "stream",
          "text": [
            "Requirement already satisfied: stellar-observatory==1.0.1 in /usr/local/lib/python3.7/dist-packages (1.0.1)\n",
            "Requirement already satisfied: requests~=2.0 in /usr/local/lib/python3.7/dist-packages (from stellar-observatory==1.0.1) (2.23.0)\n",
            "Requirement already satisfied: scipy~=1.0 in /usr/local/lib/python3.7/dist-packages (from stellar-observatory==1.0.1) (1.4.1)\n",
            "Requirement already satisfied: numpy~=1.0 in /usr/local/lib/python3.7/dist-packages (from stellar-observatory==1.0.1) (1.19.5)\n",
            "Requirement already satisfied: certifi>=2017.4.17 in /usr/local/lib/python3.7/dist-packages (from requests~=2.0->stellar-observatory==1.0.1) (2020.12.5)\n",
            "Requirement already satisfied: urllib3!=1.25.0,!=1.25.1,<1.26,>=1.21.1 in /usr/local/lib/python3.7/dist-packages (from requests~=2.0->stellar-observatory==1.0.1) (1.24.3)\n",
            "Requirement already satisfied: chardet<4,>=3.0.2 in /usr/local/lib/python3.7/dist-packages (from requests~=2.0->stellar-observatory==1.0.1) (3.0.4)\n",
            "Requirement already satisfied: idna<3,>=2.5 in /usr/local/lib/python3.7/dist-packages (from requests~=2.0->stellar-observatory==1.0.1) (2.10)\n",
            "Requirement already satisfied: typing in /usr/local/lib/python3.7/dist-packages (3.7.4.3)\n"
          ],
          "name": "stdout"
        }
      ]
    },
    {
      "cell_type": "code",
      "metadata": {
        "id": "t4DGqNxckRwd",
        "colab": {
          "base_uri": "https://localhost:8080/",
          "height": 474
        },
        "outputId": "211427bb-7124-4e0f-b4eb-10ea98840070"
      },
      "source": [
        "#@title Default title text\n",
        "import stellarobservatory\n",
        "\n",
        "def analyze_network(nodes, seed_public_key):\n",
        "    \"\"\"Checks the quorums with all nodes the seed node depends on\"\"\"\n",
        "    nodes_by_public_key = stellarobservatory.nodes.get_nodes_by_public_key(nodes)\n",
        "    dependencies = stellarobservatory.nodes.get_node_dependencies(nodes_by_public_key, seed_public_key)\n",
        "    print('dependencies: {0} ({1})'.format(len(dependencies), stellarobservatory.nodes.convert_public_keys_to_names(nodes_by_public_key, dependencies)))\n",
        "\n",
        "    quorum_candidates = stellarobservatory.utils.sets.powerset(dependencies)\n",
        "    print('# quorum candidates: {0}'.format(len(quorum_candidates)))\n",
        "\n",
        "    quorum_slices_by_public_key = {\n",
        "        dependency: stellarobservatory.quorum.generate_quorum_slices(\n",
        "            stellarobservatory.quorum.get_normalized_qset_definition(nodes_by_public_key[dependency])\n",
        "        ) \n",
        "        for dependency in dependencies\n",
        "    }\n",
        "    \n",
        "    quorums = [candidate for candidate in quorum_candidates if candidate and stellarobservatory.quorum.is_quorum(quorum_slices_by_public_key, candidate)]\n",
        "    print('# quorums: {0}'.format(len(quorums)))\n",
        "    \n",
        "    intersection, quorum_a, quorum_b = stellarobservatory.quorum.get_minimal_quorum_intersection(quorums)\n",
        "    if intersection is not None:\n",
        "        print('Quorums have quorum intersection with minimal intersection size {0}'.format(len(intersection)))\n",
        "        print('Minimum intersection example:')\n",
        "        print('Intersection: {0}'.format(stellarobservatory.nodes.convert_public_keys_to_names(nodes_by_public_key, intersection)))\n",
        "    else:\n",
        "        print('No quorum intersection!')\n",
        "        \n",
        "    print('Quorum A: {0}'.format(stellarobservatory.nodes.convert_public_keys_to_names(nodes_by_public_key, quorum_a)))\n",
        "    print('Quorum B: {0}'.format(stellarobservatory.nodes.convert_public_keys_to_names(nodes_by_public_key, quorum_b)))"
      ],
      "execution_count": 1,
      "outputs": [
        {
          "output_type": "error",
          "ename": "ModuleNotFoundError",
          "evalue": "ignored",
          "traceback": [
            "\u001b[0;31m---------------------------------------------------------------------------\u001b[0m",
            "\u001b[0;31mModuleNotFoundError\u001b[0m                       Traceback (most recent call last)",
            "\u001b[0;32m<ipython-input-1-395b4e0296b1>\u001b[0m in \u001b[0;36m<module>\u001b[0;34m()\u001b[0m\n\u001b[0;32m----> 1\u001b[0;31m \u001b[0;32mimport\u001b[0m \u001b[0mstellarobservatory\u001b[0m\u001b[0;34m\u001b[0m\u001b[0;34m\u001b[0m\u001b[0m\n\u001b[0m\u001b[1;32m      2\u001b[0m \u001b[0;34m\u001b[0m\u001b[0m\n\u001b[1;32m      3\u001b[0m \u001b[0;32mdef\u001b[0m \u001b[0manalyze_network\u001b[0m\u001b[0;34m(\u001b[0m\u001b[0mnodes\u001b[0m\u001b[0;34m,\u001b[0m \u001b[0mseed_public_key\u001b[0m\u001b[0;34m)\u001b[0m\u001b[0;34m:\u001b[0m\u001b[0;34m\u001b[0m\u001b[0;34m\u001b[0m\u001b[0m\n\u001b[1;32m      4\u001b[0m     \u001b[0;34m\"\"\"Checks the quorums with all nodes the seed node depends on\"\"\"\u001b[0m\u001b[0;34m\u001b[0m\u001b[0;34m\u001b[0m\u001b[0m\n\u001b[1;32m      5\u001b[0m     \u001b[0mnodes_by_public_key\u001b[0m \u001b[0;34m=\u001b[0m \u001b[0mstellarobservatory\u001b[0m\u001b[0;34m.\u001b[0m\u001b[0mnodes\u001b[0m\u001b[0;34m.\u001b[0m\u001b[0mget_nodes_by_public_key\u001b[0m\u001b[0;34m(\u001b[0m\u001b[0mnodes\u001b[0m\u001b[0;34m)\u001b[0m\u001b[0;34m\u001b[0m\u001b[0;34m\u001b[0m\u001b[0m\n",
            "\u001b[0;31mModuleNotFoundError\u001b[0m: No module named 'stellarobservatory'",
            "",
            "\u001b[0;31m---------------------------------------------------------------------------\u001b[0;32m\nNOTE: If your import is failing due to a missing package, you can\nmanually install dependencies using either !pip or !apt.\n\nTo view examples of installing some common dependencies, click the\n\"Open Examples\" button below.\n\u001b[0;31m---------------------------------------------------------------------------\u001b[0m\n"
          ],
          "errorDetails": {
            "actions": [
              {
                "action": "open_url",
                "actionText": "Open Examples",
                "url": "/notebooks/snippets/importing_libraries.ipynb"
              }
            ]
          }
        }
      ]
    },
    {
      "cell_type": "code",
      "metadata": {
        "id": "-7nFqCygnBup",
        "colab": {
          "base_uri": "https://localhost:8080/",
          "height": 181
        },
        "outputId": "5f6313af-a57c-4c01-d393-abf81ef90fa0"
      },
      "source": [
        "nodes = stellarobservatory.nodes.get_nodes_from_stellarbeat()\n",
        "public_key_satoshipay_de = 'GC5SXLNAM3C4NMGK2PXK4R34B5GNZ47FYQ24ZIBFDFOCU6D4KBN4POAE'\n",
        "analyze_network(nodes, public_key_satoshipay_de)"
      ],
      "execution_count": null,
      "outputs": [
        {
          "output_type": "stream",
          "text": [
            "dependencies: 17 ({'SDF validator 1', 'LOBSTR 3 (North America)', 'SDF validator 3', 'COINQVEST (Finland)', 'keybase.io', 'SatoshiPay (SG, Singapore)', 'SatoshiPay (US, Iowa)', 'LOBSTR 4 (Asia)', 'SDF validator 2', 'COINQVEST (Germany)', 'keybase2', 'LOBSTR 2 (Europe)', 'LOBSTR 5 (Australia)', 'keybase1', 'COINQVEST (Hong Kong)', 'SatoshiPay (DE, Frankfurt)', 'LOBSTR 1 (Europe)'})\n",
            "# quorum candidates: 131072\n",
            "# quorums: 21024\n",
            "Quorums have quorum intersection with minimal intersection size 3\n",
            "Minimum intersection example:\n",
            "Intersection: {'SatoshiPay (DE, Frankfurt)', 'SDF validator 3', 'keybase.io'}\n",
            "Quorum A: {'SDF validator 1', 'SDF validator 3', 'COINQVEST (Finland)', 'keybase.io', 'SatoshiPay (SG, Singapore)', 'keybase2', 'COINQVEST (Hong Kong)', 'SatoshiPay (DE, Frankfurt)'}\n",
            "Quorum B: {'SDF validator 3', 'keybase.io', 'SatoshiPay (US, Iowa)', 'LOBSTR 4 (Asia)', 'SDF validator 2', 'LOBSTR 5 (Australia)', 'keybase1', 'LOBSTR 2 (Europe)', 'SatoshiPay (DE, Frankfurt)'}\n"
          ],
          "name": "stdout"
        }
      ]
    },
    {
      "cell_type": "code",
      "metadata": {
        "id": "lnQEd_vZlK2n"
      },
      "source": [
        ""
      ],
      "execution_count": null,
      "outputs": []
    }
  ]
}